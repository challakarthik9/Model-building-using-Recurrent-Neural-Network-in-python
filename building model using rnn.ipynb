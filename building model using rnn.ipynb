{
 "cells": [
  {
   "cell_type": "code",
   "execution_count": 136,
   "metadata": {},
   "outputs": [],
   "source": [
    "#sequence prediction using rnn\n",
    "#coding with rnn using python\n",
    "#step 0 Data preparation\n",
    "# (number_of_records * length_of_Sequences * types_of_sequences) here type sequences are 1 we have only one type sequence that is sine sequnce\n",
    "#(number _of_records * types_of_sequences) # where tyep sequence is 1\n"
   ]
  },
  {
   "cell_type": "code",
   "execution_count": 137,
   "metadata": {},
   "outputs": [
    {
     "name": "stdout",
     "output_type": "stream",
     "text": [
      "Populating the interactive namespace from numpy and matplotlib\n"
     ]
    }
   ],
   "source": [
    "%pylab inline"
   ]
  },
  {
   "cell_type": "code",
   "execution_count": 138,
   "metadata": {},
   "outputs": [],
   "source": [
    "import math\n",
    "import numpy"
   ]
  },
  {
   "cell_type": "code",
   "execution_count": 139,
   "metadata": {},
   "outputs": [],
   "source": [
    "#to create sine wave from the data we will use thesine function from the pythons math library\n",
    "sin_wave = np.array([math.sin(x) for x in np.arange(200)])"
   ]
  },
  {
   "cell_type": "code",
   "execution_count": 140,
   "metadata": {},
   "outputs": [
    {
     "data": {
      "text/plain": [
       "[<matplotlib.lines.Line2D at 0x2428445a128>]"
      ]
     },
     "execution_count": 140,
     "metadata": {},
     "output_type": "execute_result"
    },
    {
     "data": {
      "image/png": "[encoded data removed]",
      "text/plain": [
       "<Figure size 432x288 with 1 Axes>"
      ]
     },
     "metadata": {
      "needs_background": "light"
     },
     "output_type": "display_data"
    }
   ],
   "source": [
    "#visualising the sine wave what we have generated\n",
    "plt.plot(sin_wave[:50])\n"
   ]
  },
  {
   "cell_type": "code",
   "execution_count": 141,
   "metadata": {},
   "outputs": [],
   "source": [
    "#creating the data now\n",
    "X = []\n",
    "Y = []\n",
    "seq_len = 50\n",
    "num_records = len(sin_wave) - seq_len\n",
    "for i in range(num_records - 50):\n",
    "    X.append(sin_wave[i:i+seq_len])\n",
    "    Y.append(sin_wave[i+seq_len])\n",
    "X = np.array(X)\n",
    "X = np.expand_dims(X, axis=2)\n",
    "Y = np.array(Y)\n",
    "Y = np.expand_dims(Y, axis=1)\n"
   ]
  },
  {
   "cell_type": "code",
   "execution_count": 142,
   "metadata": {},
   "outputs": [
    {
     "data": {
      "text/plain": [
       "((100, 50, 1), (100, 1))"
      ]
     },
     "execution_count": 142,
     "metadata": {},
     "output_type": "execute_result"
    }
   ],
   "source": [
    "#printing the shape of the data \n",
    "X.shape, Y.shape"
   ]
  },
  {
   "cell_type": "code",
   "execution_count": 143,
   "metadata": {},
   "outputs": [],
   "source": [
    "#we looped for (num_records – 50) because \n",
    "#we want to set aside 50 records as our validation data. We can create this validation data now:\n",
    "#creating the data now\n",
    "X_val = []\n",
    "Y_val = []\n",
    "for i in range(num_records - 50, num_records):\n",
    "    X_val.append(sin_wave[i:i+seq_len])\n",
    "    Y_val.append(sin_wave[i+seq_len])\n",
    "X_val = np.array(X_val)\n",
    "X_val = np.expand_dims(X_val, axis=2)\n",
    "Y_val = np.array(Y_val)\n",
    "Y_val = np.expand_dims(Y_val, axis=1)\n",
    "\n"
   ]
  },
  {
   "cell_type": "code",
   "execution_count": 144,
   "metadata": {},
   "outputs": [],
   "source": [
    "#creating the architecture for our rnn model\n",
    "learning_rate = 0.0001   # The amount that the weights are updated during training is referred to as the step size or the “learning rate.\n",
    "nepoch = 25 #no idea - means that each sample in the training dataset has had an opportunity to update the internal model parameters,\n",
    "#or else when an ENTIRE dataset is passed forward and backward through the neural network only ONCE\n",
    "T = 50 #length of the sequence\n",
    "hidden_dim = 100\n",
    "output_dim = 1\n",
    "bptt_truncate = 5 # Backpropagation through time (BPTT) is a gradient-based technique for training certain types of recurrent neural networks\n",
    "min_clip_value = -10 #clipping is forcing the values to certain range that can be min or max\n",
    "max_clip_value = 10\n"
   ]
  },
  {
   "cell_type": "code",
   "execution_count": 145,
   "metadata": {},
   "outputs": [],
   "source": [
    "#Defining the weight of the network"
   ]
  },
  {
   "cell_type": "code",
   "execution_count": 146,
   "metadata": {},
   "outputs": [],
   "source": [
    "U = np.random.uniform(0, 1, (hidden_dim,T)) # weight matrix for weights between input and hidden layers\n",
    "W = np.random.uniform(0, 1, (hidden_dim,hidden_dim)) #weight matrix for weights between hidden and output layers\n",
    "V = np.random.uniform(0, 1, (output_dim,hidden_dim)) #weight matrix for shared weights in the RNN layer (hidden layer)"
   ]
  },
  {
   "cell_type": "code",
   "execution_count": 147,
   "metadata": {},
   "outputs": [],
   "source": [
    "#defining the activation function sigmoid used in the hidden layer\n",
    "def sigmoid(x):\n",
    "    return 1/(1+np.exp(-x))"
   ]
  },
  {
   "cell_type": "code",
   "execution_count": 148,
   "metadata": {},
   "outputs": [],
   "source": [
    "#Check the loss on training data -  forward pass through our RNN model and calculate \n",
    "#the squared error for the predictions for all records in order to get the loss value.\n",
    "for epoch in range(nepoch):\n",
    "    # check loss on train\n",
    "    loss = 0.0\n",
    "    \n",
    "    # do a forward pass to get prediction\n",
    "    for i in range(Y.shape[0]):\n",
    "        x, y = X[i], Y[i]                    # get input, output values of each record\n",
    "        prev_s = np.zeros((hidden_dim, 1))   # here, prev-s is the value of the previous activation of hidden layer; which is initialized as all zeroes\n",
    "        for t in range(T):\n",
    "            new_input = np.zeros(x.shape)    # we then do a forward pass for every timestep in the sequence\n",
    "            new_input[t] = x[t]              # for this, we define a single input for that timestep\n",
    "            mulu = np.dot(U, new_input)\n",
    "            mulw = np.dot(W, prev_s)\n",
    "            add = mulw + mulu\n",
    "            s = sigmoid(add)# to give logistic neurons real-valued output that is a smooth and bounded function of their total input. \n",
    "#It also has the added benefit of having nice derivatives which make learning the weights of a neural network easier\n",
    "            mulv = np.dot(V, s)\n",
    "            prev_s = s\n",
    "\n",
    "    # calculate error \n",
    "        loss_per_record = (y - mulv)**2 / 2\n",
    "        loss += loss_per_record\n",
    "    loss = loss / float(y.shape[0])"
   ]
  },
  {
   "cell_type": "code",
   "execution_count": 149,
   "metadata": {},
   "outputs": [
    {
     "name": "stdout",
     "output_type": "stream",
     "text": [
      "Epoch:  25 , Loss:  [[132369.2277606]] , Val Loss:  [[66182.58960284]]\n"
     ]
    }
   ],
   "source": [
    "# check loss on val\n",
    "    val_loss = 0.0\n",
    "    for i in range(Y_val.shape[0]):\n",
    "        x, y = X_val[i], Y_val[i]\n",
    "        prev_s = np.zeros((hidden_dim, 1))\n",
    "        for t in range(T):\n",
    "            new_input = np.zeros(x.shape)\n",
    "            new_input[t] = x[t]\n",
    "            mulu = np.dot(U, new_input)\n",
    "            mulw = np.dot(W, prev_s)\n",
    "            add = mulw + mulu\n",
    "            s = sigmoid(add)\n",
    "            mulv = np.dot(V, s)\n",
    "            prev_s = s\n",
    "\n",
    "        loss_per_record = (y - mulv)**2 / 2\n",
    "        val_loss += loss_per_record\n",
    "    val_loss = val_loss / float(y.shape[0])\n",
    "\n",
    "    print('Epoch: ', epoch + 1, ', Loss: ', loss, ', Val Loss: ', val_loss)"
   ]
  },
  {
   "cell_type": "code",
   "execution_count": 150,
   "metadata": {},
   "outputs": [],
   "source": [
    "#starting the actual training by forward pass and backward pass\n",
    "#In the forward pass:\n",
    "\n",
    "#We first multiply the input with the weights between input and hidden layers\n",
    "#Add this with the multiplication of weights in the RNN layer. \n",
    "#This is because we want to capture the knowledge of the previous timestep\n",
    "#Pass it through a sigmoid activation function\n",
    "#Multiply this with the weights between hidden and output layers\n",
    "#At the output layer, we have a linear activation of the values so we do not explicitly pass the value through an activation layer\n",
    "#Save the state at the current layer and also the state at the previous timestep in a dictionary\n"
   ]
  },
  {
   "cell_type": "code",
   "execution_count": 151,
   "metadata": {},
   "outputs": [],
   "source": [
    "#code for forward pass\n",
    "#train model\n",
    "for i in range(Y.shape[0]):\n",
    "    x, y = X[i], Y[i]\n",
    "    layers = []\n",
    "    prev_s = np.zeros((hidden_dim, 1))\n",
    "    dU = np.zeros(U.shape)\n",
    "    dV = np.zeros(V.shape)\n",
    "    dW = np.zeros(W.shape)\n",
    "    \n",
    "    dU_t = np.zeros(U.shape)\n",
    "    dV_t = np.zeros(V.shape)\n",
    "    dW_t = np.zeros(W.shape)\n",
    "    \n",
    "    dU_i = np.zeros(U.shape)\n",
    "    dW_i = np.zeros(W.shape)\n",
    "    \n",
    "    #forward pass\n",
    "    for t in range(T):\n",
    "        new_input = np.zeros(x.shape)\n",
    "        new_input[t] = x[t]\n",
    "        mulu = np.dot(U, new_input)\n",
    "        mulw = np.dot(W, prev_s)\n",
    "        add = mulw + mulu\n",
    "        s = sigmoid(add)\n",
    "        mulv = np.dot(V, s)\n",
    "        layers.append({'s':s, 'prev_s':prev_s})\n",
    "        prev_s = s"
   ]
  },
  {
   "cell_type": "code",
   "execution_count": 152,
   "metadata": {},
   "outputs": [],
   "source": [
    "#Backpropagate Error\n",
    "#After the forward propagation step, we calculate the gradients at each layer, and backpropagate the errors.\n",
    "#We will use truncated back propagation through time (TBPTT), instead of vanilla backprop.\n",
    "#It may sound complex but its actually pretty straight forward.\n",
    "#The core difference in BPTT versus backprop is that the backpropagation step is done for all the time steps in the RNN layer. \n",
    "#So if our sequence length is 50, we will backpropagate for all the timesteps previous to the current timestep.\n",
    "#If you have guessed correctly, BPTT seems very computationally expensive. \n",
    "#So instead of backpropagating through all previous timestep , we backpropagate till x timesteps to save computational power. \n",
    "#Consider this ideologically similar to stochastic gradient descent, where we include a batch of data points instead of all the data points."
   ]
  },
  {
   "cell_type": "code",
   "execution_count": 153,
   "metadata": {},
   "outputs": [],
   "source": [
    "#backpropagating the errors\n",
    "dmulv = (mulv - y)\n",
    "#backward pass\n",
    "for t in range(T):\n",
    "    dV_t = np.dot(dmulv, np.transpose(layers[t]['s']))\n",
    "    dsv = np.dot(np.transpose(V), dmulv)\n",
    "    ds = dsv\n",
    "    dadd = add * (1-add) * ds\n",
    "    dmulw = dadd * np.ones_like(mulw)\n",
    "    dprev_s = np.dot(np.transpose(W), dmulw)\n",
    "    for i in range(t-1, max(-1, t-bptt_truncate-1), -1):\n",
    "        ds = dsv + dprev_s\n",
    "        dadd = add * (1- add) * ds\n",
    "        dmulw = dadd * np.ones_like(mulw)\n",
    "        dmulu = dadd * np.ones_like(mulu)\n",
    "        dW_i = np.dot(W, layers[t]['prev_s'])\n",
    "        dprev_s = np.dot(np.transpose(W), dmulw)\n",
    "        new_input = np.zeros(x.shape)\n",
    "        new_input[t] = x[t]\n",
    "        dU_i = np.dot(U, new_input)\n",
    "        dx = np.dot(np.transpose(U), dmulu)\n",
    "        dU_t += dU_i\n",
    "        dW_t += dW_i\n",
    "    dV += dV_t\n",
    "    dU += dU_t\n",
    "    dW += dW_t\n",
    "    \n",
    "        \n",
    "\n",
    "        "
   ]
  },
  {
   "cell_type": "code",
   "execution_count": 154,
   "metadata": {},
   "outputs": [],
   "source": [
    "#update the weights  with the gradients of weights calculated. One thing we have to keep in mind that the gradients tend to explode if you don’t keep them in check.\n",
    "#This is a fundamental issue in training neural networks,called the exploding gradient problem. So we have to clamp them in a range \n",
    "#so that they dont explode. We can do it like this\n",
    "#CODE\n",
    "if dU.max() > max_clip_value:\n",
    "    dU[dU > max_clip_value] = max_clip_value\n",
    "if dV.max() > max_clip_value:\n",
    "    dV[dV > max_clip_value] = max_clip_value\n",
    "if dW.max() > max_clip_value:\n",
    "    dW[dW > max_clip_value] = max_clip_value\n",
    "                \n",
    "            \n",
    "if dU.min() < min_clip_value:\n",
    "    dU[dU < min_clip_value] = min_clip_value\n",
    "if dV.min() < min_clip_value:\n",
    "    dV[dV < min_clip_value] = min_clip_value\n",
    "if dW.min() < min_clip_value:\n",
    "    dW[dW < min_clip_value] = min_clip_value\n",
    " # update\n",
    "U -= learning_rate * dU\n",
    "V -= learning_rate * dV\n",
    "W -= learning_rate * dW\n",
    "\n",
    "\n",
    "\n"
   ]
  },
  {
   "cell_type": "markdown",
   "metadata": {},
   "source": [
    "Epoch:  1 , Loss:  [[101185.61756671]] , Val Loss:  [[50591.0340148]]\n",
    "Epoch:  2 , Loss:  [[61205.46869629]] , Val Loss:  [[30601.34535365]]\n",
    "Epoch:  3 , Loss:  [[31225.3198258]] , Val Loss:  [[15611.65669247]]\n",
    "Epoch:  4 , Loss:  [[11245.17049551]] , Val Loss:  [[5621.96780111]]\n",
    "Epoch:  5 , Loss:  [[1264.5157739]] , Val Loss:  [[632.02563908]]\n",
    "Epoch:  6 , Loss:  [[20.15654115]] , Val Loss:  [[10.05477285]]\n",
    "Epoch:  7 , Loss:  [[17.13622839]] , Val Loss:  [[8.55190426]]\n",
    "Epoch:  8 , Loss:  [[17.38870495]] , Val Loss:  [[8.68196484]]\n",
    "Epoch:  9 , Loss:  [[17.181681]] , Val Loss:  [[8.57837827]]\n",
    "Epoch:  10 , Loss:  [[17.31275313]] , Val Loss:  [[8.64199652]]\n",
    "Epoch:  11 , Loss:  [[17.12960034]] , Val Loss:  [[8.54768294]]\n",
    "Epoch:  12 , Loss:  [[17.09020065]] , Val Loss:  [[8.52993502]]\n",
    "Epoch:  13 , Loss:  [[17.17370113]] , Val Loss:  [[8.57517454]]\n",
    "Epoch:  14 , Loss:  [[17.04906914]] , Val Loss:  [[8.50658127]]\n",
    "Epoch:  15 , Loss:  [[16.96420184]] , Val Loss:  [[8.46794248]]\n",
    "Epoch:  16 , Loss:  [[17.017519]] , Val Loss:  [[8.49241316]]\n",
    "Epoch:  17 , Loss:  [[16.94199493]] , Val Loss:  [[8.45748739]]\n",
    "Epoch:  18 , Loss:  [[16.99796892]] , Val Loss:  [[8.48242177]]\n",
    "Epoch:  19 , Loss:  [[17.24817035]] , Val Loss:  [[8.6126231]]\n",
    "Epoch:  20 , Loss:  [[17.00844599]] , Val Loss:  [[8.48682234]]\n",
    "Epoch:  21 , Loss:  [[17.03943262]] , Val Loss:  [[8.50437328]]\n",
    "Epoch:  22 , Loss:  [[17.01417255]] , Val Loss:  [[8.49409597]]\n",
    "Epoch:  23 , Loss:  [[17.20918888]] , Val Loss:  [[8.5854792]]\n",
    "Epoch:  24 , Loss:  [[16.92068017]] , Val Loss:  [[8.44794633]]\n",
    "Epoch:  25 , Loss:  [[16.76856238]] , Val Loss:  [[8.37295808]]"
   ]
  },
  {
   "cell_type": "code",
   "execution_count": 155,
   "metadata": {},
   "outputs": [],
   "source": [
    "#getting the predictions\n",
    "preds = []\n",
    "for i in range (Y.shape[0]):\n",
    "    x, y = X[i], Y[i]\n",
    "    prev_s = np.zeros((hidden_dim, 1))\n",
    "    # Forward pass\n",
    "    for t in range(T):\n",
    "        mulu = np.dot(U, x)\n",
    "        mulw = np.dot(W, prev_s)\n",
    "        add = mulw + mulu\n",
    "        s = sigmoid(add)\n",
    "        mulv = np.dot(V,s)\n",
    "        prev_s = s\n",
    "    preds.append(mulv)\n",
    "preds = np.array(preds)\n",
    "        \n",
    "    "
   ]
  },
  {
   "cell_type": "code",
   "execution_count": 156,
   "metadata": {},
   "outputs": [
    {
     "data": {
      "image/png": "[encoded data removed]",
      "text/plain": [
       "<Figure size 432x288 with 1 Axes>"
      ]
     },
     "metadata": {
      "needs_background": "light"
     },
     "output_type": "display_data"
    }
   ],
   "source": [
    "plt.plot(preds[:,0,0], 'g')\n",
    "plt.plot(Y[:, 0], 'r')\n",
    "plt.show()"
   ]
  },
  {
   "cell_type": "code",
   "execution_count": 157,
   "metadata": {},
   "outputs": [],
   "source": [
    "#validation on the set\n",
    "preds = []\n",
    "for i in range (Y_val.shape[0]):\n",
    "    x, y = X_val[i], Y_val[i]\n",
    "    prev_s = np.zeros((hidden_dim, 1))\n",
    "    # Forward pass\n",
    "    for t in range(T):\n",
    "        mulu = np.dot(U, x)\n",
    "        mulw = np.dot(W, prev_s)\n",
    "        add = mulw + mulu\n",
    "        s = sigmoid(add)\n",
    "        mulv = np.dot(V,s)\n",
    "        prev_s = s\n",
    "    preds.append(mulv)\n",
    "preds = np.array(preds)\n",
    "        \n"
   ]
  },
  {
   "cell_type": "code",
   "execution_count": 158,
   "metadata": {},
   "outputs": [
    {
     "data": {
      "image/png": "[encoded data removed]",
      "text/plain": [
       "<Figure size 432x288 with 1 Axes>"
      ]
     },
     "metadata": {
      "needs_background": "light"
     },
     "output_type": "display_data"
    }
   ],
   "source": [
    "#plotting the graph\n",
    "plt.plot(preds[:,0,0], 'g')\n",
    "plt.plot(Y_val[:, 0], 'r')\n",
    "plt.show()"
   ]
  },
  {
   "cell_type": "code",
   "execution_count": 1,
   "metadata": {},
   "outputs": [],
   "source": [
    "# #the rmse score:\n",
    "# from sklearn.metrics import mean_squared_error\n",
    "# math.sqrt(mean_squared_error(Y_val[:,0] * max_val, preds[:, 0,0] * max_val))"
   ]
  },
  {
   "cell_type": "code",
   "execution_count": null,
   "metadata": {},
   "outputs": [],
   "source": []
  }
 ],
 "metadata": {
  "kernelspec": {
   "display_name": "Python 3",
   "language": "python",
   "name": "python3"
  },
  "language_info": {
   "codemirror_mode": {
    "name": "ipython",
    "version": 3
   },
   "file_extension": ".py",
   "mimetype": "text/x-python",
   "name": "python",
   "nbconvert_exporter": "python",
   "pygments_lexer": "ipython3",
   "version": "3.5.2"
  }
 },
 "nbformat": 4,
 "nbformat_minor": 2
}
